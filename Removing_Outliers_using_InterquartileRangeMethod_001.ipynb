{
 "cells": [
  {
   "cell_type": "code",
   "execution_count": 33,
   "metadata": {},
   "outputs": [],
   "source": [
    "# Identifying outliers in Data\n",
    "# using Inter Quartile Range to idenify outliers regarsless of the distribution"
   ]
  },
  {
   "cell_type": "code",
   "execution_count": 34,
   "metadata": {},
   "outputs": [
    {
     "name": "stdout",
     "output_type": "stream",
     "text": [
      "[58.12172682 46.94121793 47.35914124 ... 44.92928092 49.68651887\n",
      " 42.81065054]\n",
      "mean=50.049  stdv=4.994\n"
     ]
    }
   ],
   "source": [
    "# Generate data using gaussian \n",
    "from numpy.random import seed\n",
    "from numpy.random import randn\n",
    "from numpy import percentile\n",
    "\n",
    "# seed the random number generator\n",
    "seed(1)\n",
    "\n",
    "# generate univariate oservations\n",
    "data = 5*randn(10000)+50\n",
    "print(data)\n",
    "\n",
    "# summarise\n",
    "print('mean=%.3f  stdv=%.3f' %(mean(data), std(data)))"
   ]
  },
  {
   "cell_type": "code",
   "execution_count": 35,
   "metadata": {},
   "outputs": [
    {
     "data": {
      "text/plain": [
       "<matplotlib.axes._subplots.AxesSubplot at 0x19f47177a58>"
      ]
     },
     "execution_count": 35,
     "metadata": {},
     "output_type": "execute_result"
    },
    {
     "data": {
      "image/png": "[encoded data removed]",
      "text/plain": [
       "<Figure size 432x288 with 1 Axes>"
      ]
     },
     "metadata": {
      "needs_background": "light"
     },
     "output_type": "display_data"
    }
   ],
   "source": [
    "# box plot\n",
    "import pandas as pd\n",
    "import numpy as np\n",
    "df = pd.DataFrame(data)\n",
    "df.plot.box(True)"
   ]
  },
  {
   "cell_type": "code",
   "execution_count": 36,
   "metadata": {},
   "outputs": [
    {
     "name": "stdout",
     "output_type": "stream",
     "text": [
      "q25 = 46.685375790489445\n",
      "q75 = 53.3590441773518\n",
      "iqr = 6.673668386862353\n",
      "lower cutoff=  36.67487321019591\n",
      "upper cutoff=  63.369546757645324\n"
     ]
    }
   ],
   "source": [
    "# let us find the IQR\n",
    "q25 = percentile(data, 25)\n",
    "q75 = percentile(data, 75)\n",
    "iqr = q75 - q25\n",
    "print(\"q25 =\", q25)\n",
    "print(\"q75 =\", q75)\n",
    "print(\"iqr =\", iqr)\n",
    "\n",
    "# let us find the outliers (1.5 times the IQR ) \n",
    "cut_off = iqr * 1.5\n",
    "lower = q25-cut_off\n",
    "upper = q75+cut_off\n",
    "print('lower cutoff= ', lower)\n",
    "print('upper cutoff= ', upper)"
   ]
  },
  {
   "cell_type": "code",
   "execution_count": 37,
   "metadata": {},
   "outputs": [
    {
     "name": "stdout",
     "output_type": "stream",
     "text": [
      "Identified outiers: 81\n"
     ]
    }
   ],
   "source": [
    "# let us find the outliers\n",
    "outliers = [x for x in data if x < lower or x > upper ]\n",
    "print('Identified outiers: %d' % len(outliers))\n",
    "#outliers"
   ]
  },
  {
   "cell_type": "code",
   "execution_count": 38,
   "metadata": {},
   "outputs": [
    {
     "name": "stdout",
     "output_type": "stream",
     "text": [
      "Non outlier observatios : 9919\n"
     ]
    }
   ],
   "source": [
    "# let us remove the outliers\n",
    "outliers_removed = [ x for x in data if x >= lower and x <= upper]\n",
    "print(\"Non outlier observatios : %d\" % len(outliers_removed))\n",
    "#outliers_removed"
   ]
  },
  {
   "cell_type": "code",
   "execution_count": 32,
   "metadata": {},
   "outputs": [
    {
     "data": {
      "text/plain": [
       "<matplotlib.axes._subplots.AxesSubplot at 0x19f47122748>"
      ]
     },
     "execution_count": 32,
     "metadata": {},
     "output_type": "execute_result"
    },
    {
     "data": {
      "image/png": "[encoded data removed]",
      "text/plain": [
       "<Figure size 432x288 with 1 Axes>"
      ]
     },
     "metadata": {
      "needs_background": "light"
     },
     "output_type": "display_data"
    }
   ],
   "source": [
    "df = pd.DataFrame(outliers_removed)\n",
    "df.plot.box()"
   ]
  },
  {
   "cell_type": "code",
   "execution_count": null,
   "metadata": {},
   "outputs": [],
   "source": []
  }
 ],
 "metadata": {
  "kernelspec": {
   "display_name": "Python 3",
   "language": "python",
   "name": "python3"
  },
  "language_info": {
   "codemirror_mode": {
    "name": "ipython",
    "version": 3
   },
   "file_extension": ".py",
   "mimetype": "text/x-python",
   "name": "python",
   "nbconvert_exporter": "python",
   "pygments_lexer": "ipython3",
   "version": "3.7.0"
  }
 },
 "nbformat": 4,
 "nbformat_minor": 2
}
