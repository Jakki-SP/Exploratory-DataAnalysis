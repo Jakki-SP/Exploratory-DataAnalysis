{
 "cells": [
  {
   "cell_type": "code",
   "execution_count": 45,
   "metadata": {},
   "outputs": [],
   "source": [
    "# Identifying outliers in Data\n",
    "#using standard deviation to identify the outliers in Gaussian or Gaussian-like data"
   ]
  },
  {
   "cell_type": "code",
   "execution_count": 46,
   "metadata": {},
   "outputs": [
    {
     "name": "stdout",
     "output_type": "stream",
     "text": [
      "[58.12172682 46.94121793 47.35914124 ... 44.92928092 49.68651887\n",
      " 42.81065054]\n",
      "mean=50.049  stdv=4.994\n"
     ]
    }
   ],
   "source": [
    "# Generate data using gaussian \n",
    "from numpy.random import seed\n",
    "from numpy.random import randn\n",
    "from numpy import mean\n",
    "from numpy import std\n",
    "\n",
    "# seed the random number generator\n",
    "seed(1)\n",
    "\n",
    "# generate univariate oservations\n",
    "data = 5*randn(10000)+50\n",
    "print(data)\n",
    "\n",
    "# summarise\n",
    "print('mean=%.3f  stdv=%.3f' %(mean(data), std(data)))"
   ]
  },
  {
   "cell_type": "code",
   "execution_count": 49,
   "metadata": {},
   "outputs": [
    {
     "data": {
      "image/png": "[encoded data removed]",
      "text/plain": [
       "<Figure size 432x288 with 1 Axes>"
      ]
     },
     "metadata": {
      "needs_background": "light"
     },
     "output_type": "display_data"
    }
   ],
   "source": [
    "# plot\n",
    "import numpy as np\n",
    "import matplotlib.pyplot as plt\n",
    "plt.hist(data)\n",
    "plt.show()"
   ]
  },
  {
   "cell_type": "code",
   "execution_count": 52,
   "metadata": {},
   "outputs": [
    {
     "name": "stdout",
     "output_type": "stream",
     "text": [
      "mean = 50.04886328349552\n",
      "std = 4.993929218440242\n",
      "lower cutoff=  35.06707562817479\n",
      "upper cutoff=  65.03065093881625\n"
     ]
    }
   ],
   "source": [
    "# SD method\n",
    "# 1SD from the mean = 68%\n",
    "# 2SD from the mean = 95%\n",
    "# 3SD from the mean = 99.7%\n",
    "# 4SD from the mean = 99.9%\n",
    "\n",
    "# let us find the mean & Std\n",
    "data_mean, data_std = mean(data), std(data)\n",
    "print(\"mean =\", data_mean)\n",
    "print(\"std =\", data_std)\n",
    "\n",
    "# let us find the outliers outside the 3stds \n",
    "cut_off = data_std * 3\n",
    "lower, upper = data_mean-cut_off, data_mean+cut_off\n",
    "print('lower cutoff= ', lower)\n",
    "print('upper cutoff= ', upper)"
   ]
  },
  {
   "cell_type": "code",
   "execution_count": 53,
   "metadata": {},
   "outputs": [
    {
     "name": "stdout",
     "output_type": "stream",
     "text": [
      "Identified outiers: 29\n"
     ]
    }
   ],
   "source": [
    "# let us find the outliers\n",
    "outliers = [x for x in data if x < lower or x > upper ]\n",
    "print('Identified outiers: %d' % len(outliers))\n",
    "#outliers"
   ]
  },
  {
   "cell_type": "code",
   "execution_count": 54,
   "metadata": {},
   "outputs": [
    {
     "name": "stdout",
     "output_type": "stream",
     "text": [
      "Non outlier observatios : 9971\n"
     ]
    }
   ],
   "source": [
    "# let us remove the outliers\n",
    "outliers_removed = [ x for x in data if x >= lower and x <= upper]\n",
    "print(\"Non outlier observatios : %d\" % len(outliers_removed))\n",
    "#outliers_removed"
   ]
  },
  {
   "cell_type": "code",
   "execution_count": 55,
   "metadata": {},
   "outputs": [
    {
     "data": {
      "image/png": "[encoded data removed]",
      "text/plain": [
       "<Figure size 432x288 with 1 Axes>"
      ]
     },
     "metadata": {
      "needs_background": "light"
     },
     "output_type": "display_data"
    }
   ],
   "source": [
    "plt.hist(outliers_removed)\n",
    "plt.show()"
   ]
  },
  {
   "cell_type": "code",
   "execution_count": null,
   "metadata": {},
   "outputs": [],
   "source": []
  }
 ],
 "metadata": {
  "kernelspec": {
   "display_name": "Python 3",
   "language": "python",
   "name": "python3"
  },
  "language_info": {
   "codemirror_mode": {
    "name": "ipython",
    "version": 3
   },
   "file_extension": ".py",
   "mimetype": "text/x-python",
   "name": "python",
   "nbconvert_exporter": "python",
   "pygments_lexer": "ipython3",
   "version": "3.7.0"
  }
 },
 "nbformat": 4,
 "nbformat_minor": 2
}
